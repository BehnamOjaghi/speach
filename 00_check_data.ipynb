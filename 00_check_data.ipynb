{
  "nbformat": 4,
  "nbformat_minor": 2,
  "metadata": {
    "kernelspec": {
      "name": "python3",
      "display_name": "Python 3.7.11 64-bit ('tfgpu': conda)"
    },
    "language_info": {
      "codemirror_mode": {
        "name": "ipython",
        "version": 3
      },
      "file_extension": ".py",
      "mimetype": "text/x-python",
      "name": "python",
      "nbconvert_exporter": "python",
      "pygments_lexer": "ipython3",
      "version": "3.7.11"
    },
    "colab": {
      "name": "00_check-data.ipynb",
      "provenance": [],
      "collapsed_sections": []
    },
    "interpreter": {
      "hash": "339b8bf851a164878c117743ae62d2a584561a65caea7c91af94eb5985ad0ffb"
    }
  },
  "cells": [
    {
      "cell_type": "markdown",
      "source": [
        "Copyright 2019 Google LLC\n",
        "\n",
        "Licensed under the Apache License, Version 2.0 (the \"License\"); you may not use this file except in compliance with the License. You may obtain a copy of the License at\n",
        "\n",
        "https://www.apache.org/licenses/LICENSE-2.0\n",
        "Unless required by applicable law or agreed to in writing, software distributed under the License is distributed on an \"AS IS\" BASIS, WITHOUT WARRANTIES OR CONDITIONS OF ANY KIND, either express or implied. See the License for the specific language governing permissions and limitations under the License."
      ],
      "metadata": {
        "id": "UB6qenKgVyIG",
        "colab_type": "text"
      }
    },
    {
      "cell_type": "markdown",
      "source": [
        "Make sure that jupyter is installed by running below command (it will allow to create folders in user dir):\n",
        "\n",
        "```shell\n",
        "pip install jupyter --user\n",
        "```"
      ],
      "metadata": {
        "id": "CpPQDKFaVyII",
        "colab_type": "text"
      }
    },
    {
      "cell_type": "code",
      "execution_count": null,
      "source": [
        "import sys\r\n",
        "import os\r\n",
        "import tarfile\r\n",
        "import urllib\r\n",
        "# sys.path.append('./google-research')"
      ],
      "outputs": [],
      "metadata": {
        "id": "LutDR7qoVyIQ",
        "colab_type": "code",
        "colab": {}
      }
    },
    {
      "cell_type": "code",
      "execution_count": null,
      "source": [
        "os.environ[\"CUDA_VISIBLE_DEVICES\"] = \"-1\"  # no need to use gpu"
      ],
      "outputs": [],
      "metadata": {
        "id": "t8e_WfgaVyIV",
        "colab_type": "code",
        "colab": {}
      }
    },
    {
      "cell_type": "code",
      "execution_count": null,
      "source": [
        "import tensorflow as tf\r\n",
        "import tensorflow.compat.v1 as tf1\r\n",
        "import logging\r\n",
        "from models import model_flags\r\n",
        "from models import models\r\n",
        "from layers.modes import Modes\r\n",
        "from train import test\r\n",
        "from models import utils\r\n",
        "from data import input_data\r\n",
        "from data import input_data_utils as du\r\n",
        "from models import model_params"
      ],
      "outputs": [],
      "metadata": {
        "id": "2vxfxt-VVyIa",
        "colab_type": "code",
        "colab": {}
      }
    },
    {
      "cell_type": "code",
      "execution_count": null,
      "source": [
        "tf1.__version__"
      ],
      "outputs": [],
      "metadata": {
        "id": "jIkBmOt6VyIe",
        "colab_type": "code",
        "colab": {}
      }
    },
    {
      "cell_type": "code",
      "execution_count": null,
      "source": [
        "config = tf1.ConfigProto()\r\n",
        "config.gpu_options.allow_growth = True\r\n",
        "sess = tf1.Session(config=config)"
      ],
      "outputs": [],
      "metadata": {
        "id": "sSETc8rdVyIl",
        "colab_type": "code",
        "colab": {}
      }
    },
    {
      "cell_type": "code",
      "execution_count": null,
      "source": [
        "tf1.disable_eager_execution()"
      ],
      "outputs": [],
      "metadata": {
        "id": "dnvm8YMlVyIq",
        "colab_type": "code",
        "colab": {}
      }
    },
    {
      "cell_type": "code",
      "execution_count": null,
      "source": [
        "DATA_VERSION = 2"
      ],
      "outputs": [],
      "metadata": {
        "id": "yjvGL2IgVyIw",
        "colab_type": "code",
        "colab": {}
      }
    },
    {
      "cell_type": "code",
      "execution_count": null,
      "source": [
        "current_dir = os.getcwd()\r\n",
        "\r\n",
        "if DATA_VERSION == 2:\r\n",
        "  DATA_URL = \"https://storage.googleapis.com/download.tensorflow.org/data/speech_commands_v0.02.tar.gz\"\r\n",
        "  DATA_PATH = os.path.join(current_dir, \"data2/\")\r\n",
        "elif DATA_VERSION == 1:\r\n",
        "  DATA_URL = \"http://download.tensorflow.org/data/speech_commands_v0.01.tar.gz\"\r\n",
        "  DATA_PATH = os.path.join(current_dir, \"data1/\")\r\n",
        "else:\r\n",
        "  assert(False)"
      ],
      "outputs": [],
      "metadata": {
        "id": "smFll0s2VyI0",
        "colab_type": "code",
        "colab": {}
      }
    },
    {
      "cell_type": "code",
      "execution_count": null,
      "source": [
        "DATA_PATH"
      ],
      "outputs": [],
      "metadata": {
        "id": "2Ap7kbKPVyI4",
        "colab_type": "code",
        "colab": {}
      }
    },
    {
      "cell_type": "code",
      "execution_count": null,
      "source": [
        "# create folder in current dir.\r\n",
        "# not data will be downloaded in DATA_PATH, feel free to specify your own DATA_PATH\r\n",
        "os.makedirs(DATA_PATH,exist_ok=True)"
      ],
      "outputs": [],
      "metadata": {
        "id": "HCFAzvyfVyI8",
        "colab_type": "code",
        "colab": {}
      }
    },
    {
      "cell_type": "code",
      "execution_count": null,
      "source": [
        "base_name = os.path.basename(DATA_URL)\r\n",
        "base_name"
      ],
      "outputs": [],
      "metadata": {
        "id": "1232Ifp3VyI_",
        "colab_type": "code",
        "colab": {}
      }
    },
    {
      "cell_type": "code",
      "execution_count": null,
      "source": [
        "# it can take some time to download 2.3GB. After unpacking total size is 5.4GB\r\n",
        "arch_file_name = os.path.join(DATA_PATH, base_name)\r\n",
        "if not os.path.isfile(arch_file_name):\r\n",
        "  # download data\r\n",
        "  if sys.version_info >= (2, 5):\r\n",
        "    file_path = urllib.request.urlretrieve(DATA_URL, filename=arch_file_name)[0]\r\n",
        "  else:\r\n",
        "    file_path = urllib.urlretrieve(DATA_URL, filename=arch_file_name)[0]\r\n",
        "\r\n",
        "  # unpack it\r\n",
        "  file_name, file_extension = os.path.splitext(base_name)\r\n",
        "  tar = tarfile.open(file_path)\r\n",
        "  tar.extractall(DATA_PATH)\r\n",
        "  tar.close()"
      ],
      "outputs": [],
      "metadata": {
        "id": "Kf5YF4SsVyJD",
        "colab_type": "code",
        "colab": {}
      }
    },
    {
      "cell_type": "code",
      "execution_count": null,
      "source": [
        "file_path = os.path.join(DATA_PATH, base_name)"
      ],
      "outputs": [],
      "metadata": {}
    },
    {
      "cell_type": "code",
      "execution_count": null,
      "source": [
        "  # unpack it\r\n",
        "  file_name, file_extension = os.path.splitext(base_name)\r\n",
        "  tar = tarfile.open(file_path)\r\n",
        "  tar.extractall(DATA_PATH)\r\n",
        "  tar.close()"
      ],
      "outputs": [],
      "metadata": {}
    },
    {
      "cell_type": "code",
      "execution_count": null,
      "source": [
        "# default parameters for data splitting\r\n",
        "flags = model_params.Params()\r\n",
        "flags.data_dir = DATA_PATH\r\n",
        "flags.data_url = DATA_URL\r\n",
        "flags = model_flags.update_flags(flags)"
      ],
      "outputs": [],
      "metadata": {
        "id": "T8z0-SnfVyJG",
        "colab_type": "code",
        "colab": {}
      }
    },
    {
      "cell_type": "code",
      "execution_count": null,
      "source": [
        "audio_processor = input_data.AudioProcessor(flags)"
      ],
      "outputs": [],
      "metadata": {
        "id": "TsRktp1mVyJK",
        "colab_type": "code",
        "colab": {}
      }
    },
    {
      "cell_type": "code",
      "execution_count": null,
      "source": [
        "testing_set_size = audio_processor.set_size('testing')\r\n",
        "print(\"testing_set_size \" + str(testing_set_size))\r\n",
        "training_set_size = audio_processor.set_size('training')\r\n",
        "print(\"training_set_size \" + str(training_set_size))\r\n",
        "validation_set_size = audio_processor.set_size('validation')\r\n",
        "print(\"validation_set_size \" + str(validation_set_size))"
      ],
      "outputs": [],
      "metadata": {
        "id": "ZXABxi76VyJO",
        "colab_type": "code",
        "colab": {}
      }
    },
    {
      "cell_type": "code",
      "execution_count": null,
      "source": [
        "# V2\r\n",
        "# testing_set_size 4890\r\n",
        "# training_set_size 36923\r\n",
        "# validation_set_size 4445\r\n",
        "\r\n",
        "# V1\r\n",
        "# testing_set_size 3081\r\n",
        "# training_set_size 22246\r\n",
        "# validation_set_size 3093"
      ],
      "outputs": [],
      "metadata": {
        "id": "kDC0kbR2VyJR",
        "colab_type": "code",
        "colab": {}
      }
    },
    {
      "cell_type": "code",
      "execution_count": null,
      "source": [
        "# all words used for modeling: we have target words + unknown words (with index 1)\r\n",
        "audio_processor.word_to_index"
      ],
      "outputs": [],
      "metadata": {
        "id": "RocIfpAtVyJU",
        "colab_type": "code",
        "colab": {}
      }
    },
    {
      "cell_type": "code",
      "execution_count": null,
      "source": [
        "# find the start of the file name where label begins\r\n",
        "string = audio_processor.data_index[\"validation\"][0]['file']\r\n",
        "string"
      ],
      "outputs": [],
      "metadata": {
        "id": "iea72Q5oVyJY",
        "colab_type": "code",
        "colab": {}
      }
    },
    {
      "cell_type": "code",
      "execution_count": null,
      "source": [
        "res = [i for i in range(len(string)) if string.startswith('/', i)] \r\n",
        "start_file = res[-2]+1\r\n",
        "start_file"
      ],
      "outputs": [],
      "metadata": {}
    },
    {
      "cell_type": "code",
      "execution_count": null,
      "source": [
        "print(res)"
      ],
      "outputs": [],
      "metadata": {}
    },
    {
      "cell_type": "code",
      "execution_count": null,
      "source": [
        "audio_processor.data_index[\"validation\"][0]['file'][start_file:]"
      ],
      "outputs": [],
      "metadata": {
        "id": "DQWh0HF0VyJb",
        "colab_type": "code",
        "colab": {}
      }
    },
    {
      "cell_type": "code",
      "execution_count": null,
      "source": [
        "index_to_label = {}\r\n",
        "unknown_category = []\r\n",
        "# labeles used for training\r\n",
        "for word in audio_processor.word_to_index.keys():\r\n",
        "  if audio_processor.word_to_index[word] == du.SILENCE_INDEX:\r\n",
        "    index_to_label[audio_processor.word_to_index[word]] = du.SILENCE_LABEL\r\n",
        "  elif audio_processor.word_to_index[word] == du.UNKNOWN_WORD_INDEX:\r\n",
        "    index_to_label[audio_processor.word_to_index[word]] = du.UNKNOWN_WORD_LABEL\r\n",
        "    unknown_category.append(word)\r\n",
        "  else:\r\n",
        "    index_to_label[audio_processor.word_to_index[word]] = word\r\n",
        "\r\n",
        "# training labels\r\n",
        "index_to_label"
      ],
      "outputs": [],
      "metadata": {
        "id": "LdihI451VyJe",
        "colab_type": "code",
        "colab": {}
      }
    },
    {
      "cell_type": "code",
      "execution_count": null,
      "source": [
        "# words belonging to unknown categry\r\n",
        "unknown_category"
      ],
      "outputs": [],
      "metadata": {
        "id": "vsgt_OpnVyJh",
        "colab_type": "code",
        "colab": {}
      }
    },
    {
      "cell_type": "code",
      "execution_count": null,
      "source": [
        "def get_distribution(mode):\r\n",
        "  distrib_label = {}\r\n",
        "  distrib_words = {}\r\n",
        "  files = {}\r\n",
        "  for data in audio_processor.data_index[mode]:\r\n",
        "    word = data['label']\r\n",
        "    file = data['file'][start_file:]\r\n",
        "    index = audio_processor.word_to_index[word]\r\n",
        "    label = index_to_label[index]\r\n",
        "    if word in files:\r\n",
        "      files[word].append(file)\r\n",
        "    else:\r\n",
        "      files[word] = [file]\r\n",
        "\r\n",
        "    if label in distrib_label:\r\n",
        "      distrib_label[label] = distrib_label[label] + 1\r\n",
        "    else:\r\n",
        "      distrib_label[label] = 0\r\n",
        "\r\n",
        "    if word in distrib_words:\r\n",
        "      distrib_words[word] = distrib_words[word] + 1\r\n",
        "    else:\r\n",
        "      distrib_words[word] = 0\r\n",
        "  return distrib_words, distrib_label, files"
      ],
      "outputs": [],
      "metadata": {
        "id": "JDCSwc9SVyJk",
        "colab_type": "code",
        "colab": {}
      }
    },
    {
      "cell_type": "code",
      "execution_count": null,
      "source": [
        "# distribution of labeles in testing data\r\n",
        "distrib_words_testing, distrib_labels_testing, files_testing = get_distribution('testing')\r\n",
        "distrib_labels_testing"
      ],
      "outputs": [],
      "metadata": {
        "id": "fwrCIcC0VyJn",
        "colab_type": "code",
        "colab": {}
      }
    },
    {
      "cell_type": "code",
      "execution_count": null,
      "source": [
        "# distribution of labeles in training data\r\n",
        "distrib_words_training, distrib_labels_training, files_training = get_distribution('training')\r\n",
        "distrib_labels_training"
      ],
      "outputs": [],
      "metadata": {
        "id": "qG0cJ1ifVyJr",
        "colab_type": "code",
        "colab": {}
      }
    },
    {
      "cell_type": "code",
      "execution_count": null,
      "source": [
        "def parse_files(set_list_fname, label='yes'):\r\n",
        "  set_files = []\r\n",
        "  with open(set_list_fname) as f:\r\n",
        "    while True:\r\n",
        "      line = f.readline()\r\n",
        "      if not line:\r\n",
        "        break\r\n",
        "      if line.split('/')[0] == label:\r\n",
        "        set_files.append(line[:-1])\r\n",
        "  return set_files"
      ],
      "outputs": [],
      "metadata": {
        "id": "GRsumUc0VyJv",
        "colab_type": "code",
        "colab": {}
      }
    },
    {
      "cell_type": "code",
      "execution_count": null,
      "source": [
        "def validate(my_list1, list2, print_in_list2=False):\r\n",
        "  cnt_my_val2 = 0\r\n",
        "  cnt_my_val1 = 0\r\n",
        "  for my_val in my_list1:\r\n",
        "    if my_val in list2:\r\n",
        "      cnt_my_val2 = cnt_my_val2 + 1\r\n",
        "      if print_in_list2:\r\n",
        "        print(my_val)\r\n",
        "    else:\r\n",
        "      cnt_my_val1 = cnt_my_val1 + 1\r\n",
        "      if not print_in_list2:\r\n",
        "        print(my_val)\r\n",
        "  return cnt_my_val1, cnt_my_val2"
      ],
      "outputs": [],
      "metadata": {
        "id": "iHw_eD2rVyJy",
        "colab_type": "code",
        "colab": {}
      }
    },
    {
      "cell_type": "code",
      "execution_count": null,
      "source": [
        "file_list = os.path.join(DATA_PATH, \"testing_list.txt\")\r\n",
        "\r\n",
        "# validate that all wav used during testing belongs to testing_list\r\n",
        "for word in files_testing.keys():\r\n",
        "  if word != '_silence_':\r\n",
        "    word_files = parse_files(file_list, label=word)\r\n",
        "    _, cnt_val = validate(files_testing[word], word_files, False)\r\n",
        "    assert(cnt_val-len(files_testing[word])==0)"
      ],
      "outputs": [],
      "metadata": {
        "id": "CSbC4wmmVyJ2",
        "colab_type": "code",
        "colab": {}
      }
    },
    {
      "cell_type": "code",
      "execution_count": null,
      "source": [
        "\r\n",
        "distrib_words_training, distrib_labels_training, files_training = get_distribution('training')\r\n",
        "\r\n",
        "# validate that all wav used during testing do not belong to training data\r\n",
        "for word in files_testing.keys():\r\n",
        "  if word != '_silence_': # silence file does not matter becasue it is multiplied by zero\r\n",
        "    word_files = files_testing[word]\r\n",
        "    _, cnt_val = validate(files_training[word], word_files, True)\r\n",
        "    assert(cnt_val == 0)"
      ],
      "outputs": [],
      "metadata": {
        "id": "2Q8zKJWwVyJ4",
        "colab_type": "code",
        "colab": {}
      }
    },
    {
      "cell_type": "code",
      "execution_count": null,
      "source": [],
      "outputs": [],
      "metadata": {
        "id": "nQqB8IqLVyJ7",
        "colab_type": "code",
        "colab": {}
      }
    }
  ]
}